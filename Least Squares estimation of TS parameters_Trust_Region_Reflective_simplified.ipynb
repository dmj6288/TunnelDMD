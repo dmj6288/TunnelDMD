{
 "cells": [
  {
   "cell_type": "code",
   "execution_count": 147,
   "metadata": {},
   "outputs": [],
   "source": [
    "import numpy as np\n",
    "from scipy.integrate import odeint\n",
    "import matplotlib.pyplot as plt\n",
    "from scipy.optimize import least_squares\n",
    "from scipy.integrate import odeint\n",
    "import scipy"
   ]
  },
  {
   "cell_type": "code",
   "execution_count": 148,
   "metadata": {},
   "outputs": [],
   "source": [
    "def toggle_switch(yz, t, beta_y, beta_z, n_x, n_y, Km1, Km2, delta):\n",
    "    \"\"\"\n",
    "    Right hand side for cascade X -> Y -> Z.  Return dy/dt and dz/dt.\n",
    "    \"\"\"\n",
    "    # Unpack y and z\n",
    "    y, z = yz\n",
    "\n",
    "    # Compute dy/dt\n",
    "    dy_dt = beta_y/ (1 + (z/Km1)**n_x) - delta*y\n",
    "    \n",
    "    # Compute dz/dt\n",
    "    dz_dt = beta_z/ (1 + (y/Km2)**n_y) - delta*z\n",
    "    \n",
    "    \n",
    "    # Return the result as a NumPy array\n",
    "    return np.array([dy_dt, dz_dt])"
   ]
  },
  {
   "cell_type": "code",
   "execution_count": 149,
   "metadata": {},
   "outputs": [],
   "source": [
    "def general_toggle_switch(yz, t, *args):\n",
    "    \"\"\"\n",
    "    Right hand side for cascade X -> Y -> Z.  Return dy/dt and dz/dt.\n",
    "    \"\"\"\n",
    "    #args = (np.array(args).reshape(2, 6))\n",
    "    args1 = np.array([args[0], args[1], args[2], args[3]])\n",
    "    args2 = np.array([args[4], args[5], args[6], args[7]])#, args[5], args[12], args[13]])\n",
    "    \n",
    "    # Unpack y and z\n",
    "    y, z = yz\n",
    "    \n",
    "    # Compute dy/dt\n",
    "    dy_dt = generalized_hill_function(z, args1) - args1[3]*y\n",
    "    \n",
    "    # Compute dz/dt\n",
    "    dz_dt = generalized_hill_function(y, args2) - args2[3]*z\n",
    "    \n",
    "    # Return the result as a NumPy array\n",
    "    return np.array([dy_dt, dz_dt])"
   ]
  },
  {
   "cell_type": "code",
   "execution_count": 150,
   "metadata": {},
   "outputs": [],
   "source": [
    "def generalized_hill_function(y, args):\n",
    "    b    = args[0]\n",
    "    n    = args[1]\n",
    "    beta  = args[2]\n",
    "    return beta/(1 + b*y**n)"
   ]
  },
  {
   "cell_type": "code",
   "execution_count": 151,
   "metadata": {},
   "outputs": [],
   "source": [
    "def residuals(p):\n",
    "    p = tuple(p)\n",
    "    sim_P = odeint(general_toggle_switch, iv, t, args = p).T\n",
    "    #print(sim_P)\n",
    "    res = (sim_P - exp_P)**2\n",
    "    #print(np.sum(res.flatten()**2))\n",
    "    return res.flatten()"
   ]
  },
  {
   "cell_type": "code",
   "execution_count": 152,
   "metadata": {},
   "outputs": [
    {
     "data": {
      "text/plain": [
       "[<matplotlib.lines.Line2D at 0x1524d90810>]"
      ]
     },
     "execution_count": 152,
     "metadata": {},
     "output_type": "execute_result"
    },
    {
     "data": {
      "image/png": "[encoded data removed]",
      "text/plain": [
       "<Figure size 432x288 with 1 Axes>"
      ]
     },
     "metadata": {
      "needs_background": "light"
     },
     "output_type": "display_data"
    }
   ],
   "source": []
  },
  {
   "cell_type": "code",
   "execution_count": 153,
   "metadata": {},
   "outputs": [],
   "source": [
    "y_og_scaled = []\n",
    "z_og_scaled = []\n",
    "\n",
    "for i in range(0, len(y_og)):\n",
    "    y_og_scaled.append((y_og[i] - np.mean(y_og))/np.std(y_og))\n",
    "    z_og_scaled.append((z_og[i] - np.mean(z_og))/np.std(z_og))\n",
    "    \n",
    "y_og_scaled = np.array(y_og_scaled) + np.abs(np.min((y_og_scaled)))\n",
    "z_og_scaled = np.array(z_og_scaled) + np.abs(np.min((z_og_scaled)))\n",
    "\n",
    "                                             \n",
    "#for ii in range()"
   ]
  },
  {
   "cell_type": "code",
   "execution_count": 154,
   "metadata": {},
   "outputs": [],
   "source": [
    "yz_scaled = np.array(list(zip(y_og_scaled, z_og_scaled))).T"
   ]
  },
  {
   "cell_type": "code",
   "execution_count": 155,
   "metadata": {},
   "outputs": [],
   "source": [
    "exp_P = yz_scaled# + np.random.randn(len(yz_og))*0.5\n",
    "exp_P = exp_P#[::5]"
   ]
  },
  {
   "cell_type": "code",
   "execution_count": 156,
   "metadata": {},
   "outputs": [
    {
     "data": {
      "text/plain": [
       "[<matplotlib.lines.Line2D at 0x1524a7b950>]"
      ]
     },
     "execution_count": 156,
     "metadata": {},
     "output_type": "execute_result"
    },
    {
     "data": {
      "image/png": "[encoded data removed]",
      "text/plain": [
       "<Figure size 432x288 with 1 Axes>"
      ]
     },
     "metadata": {
      "needs_background": "light"
     },
     "output_type": "display_data"
    }
   ],
   "source": [
    "plt.plot(t, y_og_scaled)\n",
    "plt.plot(t, z_og_scaled)"
   ]
  },
  {
   "cell_type": "code",
   "execution_count": 158,
   "metadata": {
    "scrolled": false
   },
   "outputs": [
    {
     "name": "stdout",
     "output_type": "stream",
     "text": [
      "   Iteration     Total nfev        Cost      Cost reduction    Step norm     Optimality   \n",
      "       0              1         1.6427e+04                                    1.18e+07    \n",
      "       1              4         7.4471e+03      8.98e+03       7.75e-02       2.94e+06    \n",
      "       2              5         5.0712e+03      2.38e+03       1.56e-01       4.33e+05    \n",
      "       3              7         4.7521e+03      3.19e+02       4.57e-02       2.35e+06    \n",
      "       4              8         4.2877e+03      4.64e+02       5.34e-02       3.33e+06    \n",
      "       5              9         3.7026e+03      5.85e+02       4.65e-02       2.99e+06    \n",
      "       6             10         3.3470e+03      3.56e+02       4.42e-02       3.09e+06    \n",
      "       7             11         3.0198e+03      3.27e+02       4.11e-02       2.81e+06    \n",
      "       8             12         2.7972e+03      2.23e+02       3.97e-02       2.72e+06    \n",
      "       9             13         2.5975e+03      2.00e+02       3.84e-02       2.44e+06    \n",
      "      10             14         2.4434e+03      1.54e+02       3.78e-02       2.20e+06    \n",
      "      11             15         2.2995e+03      1.44e+02       3.74e-02       1.81e+06    \n",
      "      12             16         2.1746e+03      1.25e+02       3.75e-02       1.40e+06    \n",
      "      13             17         2.0622e+03      1.12e+02       3.80e-02       9.70e+05    \n",
      "      14             18         1.9643e+03      9.79e+01       3.94e-02       6.62e+05    \n",
      "      15             19         1.8943e+03      7.00e+01       7.50e-02       1.01e+06    \n",
      "      16             20         1.7860e+03      1.08e+02       7.28e-02       2.79e+05    \n",
      "      17             23         1.7607e+03      2.53e+01       1.09e-02       5.76e+05    \n",
      "      18             25         1.7435e+03      1.72e+01       5.31e-03       2.37e+05    \n",
      "      19             26         1.7294e+03      1.40e+01       5.34e-03       2.26e+05    \n",
      "      20             27         1.7188e+03      1.07e+01       9.62e-03       8.42e+05    \n",
      "      21             28         1.6953e+03      2.34e+01       1.02e-02       1.19e+05    \n",
      "      22             29         1.6799e+03      1.55e+01       1.12e-02       9.09e+04    \n",
      "      23             30         1.6757e+03      4.12e+00       2.33e-02       9.53e+05    \n",
      "      24             31         1.6500e+03      2.57e+01       5.80e-03       2.79e+05    \n",
      "      25             32         1.6424e+03      7.62e+00       9.68e-03       7.07e+04    \n",
      "      26             33         1.6418e+03      5.86e-01       2.40e-02       9.32e+05    \n",
      "      27             34         1.6211e+03      2.07e+01       5.75e-03       2.90e+05    \n",
      "      28             35         1.6156e+03      5.47e+00       1.12e-02       5.04e+04    \n",
      "      29             36         1.6052e+03      1.04e+01       2.23e-02       6.97e+04    \n",
      "      30             37         1.5922e+03      1.30e+01       4.74e-02       6.46e+05    \n",
      "      31             38         1.5669e+03      2.53e+01       4.26e-02       1.14e+05    \n",
      "      32             39         1.5421e+03      2.48e+01       9.20e-02       4.02e+05    \n",
      "      33             41         1.5165e+03      2.56e+01       4.62e-02       1.41e+05    \n",
      "      34             42         1.5015e+03      1.50e+01       9.23e-02       3.76e+05    \n",
      "      35             43         1.4863e+03      1.52e+01       9.14e-02       3.79e+05    \n",
      "      36             44         1.4245e+03      6.18e+01       1.82e-02       4.61e+04    \n",
      "      37             45         1.4044e+03      2.01e+01       4.61e-02       1.73e+05    \n",
      "      38             46         1.3474e+03      5.70e+01       8.69e-02       2.43e+04    \n",
      "      39             47         1.2277e+03      1.20e+02       1.76e-01       4.29e+04    \n",
      "      40             48         9.6065e+02      2.67e+02       2.90e-01       1.82e+04    \n",
      "      41             49         4.1800e+02      5.43e+02       6.07e-01       4.77e+03    \n",
      "      42             50         9.9211e+01      3.19e+02       1.15e+00       2.12e+03    \n",
      "      43             51         3.8607e+01      6.06e+01       2.29e+00       1.29e+03    \n",
      "      44             52         2.1944e+01      1.67e+01       9.63e-01       8.67e+02    \n",
      "      45             54         4.8141e+00      1.71e+01       3.30e-01       1.88e+02    \n",
      "      46             55         2.6164e+00      2.20e+00       5.52e-01       8.38e+01    \n",
      "      47             56         1.9587e+00      6.58e-01       5.13e-01       6.22e+01    \n",
      "      48             57         1.4683e+00      4.90e-01       5.58e-01       6.70e+01    \n",
      "      49             58         1.2158e+00      2.53e-01       5.04e-01       7.33e+00    \n",
      "      50             59         1.1750e+00      4.08e-02       1.05e+00       3.05e+01    \n",
      "      51             60         1.1614e+00      1.37e-02       9.82e-01       1.93e+01    \n",
      "      52             61         9.3643e-01      2.25e-01       2.35e-01       7.92e+00    \n",
      "      53             62         7.7596e-01      1.60e-01       3.23e-01       7.73e-01    \n",
      "      54             63         7.1630e-01      5.97e-02       7.04e-01       1.08e+01    \n",
      "      55             67         6.3412e-01      8.22e-02       5.80e-03       4.56e+00    \n",
      "      56             68         6.1119e-01      2.29e-02       1.60e-02       1.17e+01    \n",
      "      57             69         5.9482e-01      1.64e-02       2.16e-02       1.15e+00    \n",
      "      58             70         5.8296e-01      1.19e-02       2.81e-02       2.05e+00    \n",
      "      59             71         5.6078e-01      2.22e-02       6.18e-02       7.20e-01    \n",
      "      60             72         5.1638e-01      4.44e-02       1.25e-01       1.42e+00    \n",
      "      61             73         4.5569e-01      6.07e-02       3.22e-01       5.42e+00    \n",
      "      62             74         3.4967e-01      1.06e-01       3.27e-01       5.12e+00    \n",
      "      63             75         3.2190e-01      2.78e-02       7.07e-01       1.24e+01    \n",
      "      64             77         3.1442e-01      7.49e-03       2.04e-01       1.31e+01    \n",
      "      65             78         2.4987e-01      6.46e-02       1.98e-02       2.02e+00    \n",
      "      66             79         2.4078e-01      9.09e-03       9.81e-02       5.47e-01    \n",
      "      67             80         2.3335e-01      7.43e-03       8.88e-02       5.26e-01    \n",
      "      68             81         2.2056e-01      1.28e-02       1.82e-01       5.28e-01    \n",
      "      69             82         1.9937e-01      2.12e-02       3.60e-01       9.45e-01    \n",
      "      70             83         1.6567e-01      3.37e-02       7.36e-01       2.41e+00    \n",
      "      71             84         1.3293e-01      3.27e-02       1.46e+00       7.62e+00    \n",
      "      72             85         8.8923e-02      4.40e-02       1.45e+00       3.78e+00    \n",
      "      73             87         6.8606e-02      2.03e-02       7.28e-01       5.18e-02    \n",
      "      74             88         4.6135e-02      2.25e-02       1.43e+00       4.67e-01    \n",
      "      75             89         3.7981e-02      8.15e-03       2.90e+00       5.03e+00    \n",
      "      76             90         2.3885e-02      1.41e-02       2.88e+00       3.81e+00    \n",
      "      77             91         1.1816e-02      1.21e-02       2.70e+00       1.67e+00    \n",
      "      78             92         6.7920e-03      5.02e-03       2.87e+00       8.90e-01    \n",
      "      79             93         3.9148e-03      2.88e-03       3.09e+00       4.63e-01    \n",
      "      80             94         2.0935e-03      1.82e-03       3.13e+00       2.04e-01    \n",
      "      81             95         9.9403e-04      1.10e-03       3.50e+00       9.40e-02    \n",
      "      82             96         4.1411e-04      5.80e-04       4.11e+00       4.78e-02    \n",
      "      83             97         1.6179e-04      2.52e-04       2.26e+00       6.23e-03    \n",
      "      84             98         5.8090e-05      1.04e-04       2.01e+00       6.13e-02    \n",
      "      85             99         1.3480e-05      4.46e-05       2.95e-01       1.79e-02    \n",
      "      86             100        3.4471e-06      1.00e-05       3.53e-01       2.69e-03    \n",
      "      87             101        9.3720e-07      2.51e-06       6.07e-01       3.05e-03    \n",
      "      88             102        2.0638e-07      7.31e-07       3.78e-01       1.10e-04    \n",
      "      89             103        3.6993e-08      1.69e-07       4.54e-01       3.36e-04    \n",
      "      90             104        5.4869e-09      3.15e-08       2.36e-01       5.03e-05    \n",
      "      91             105        7.6371e-10      4.72e-09       1.93e-01       1.73e-05    \n",
      "      92             106        8.3668e-11      6.80e-10       1.19e-01       3.28e-06    \n"
     ]
    },
    {
     "name": "stdout",
     "output_type": "stream",
     "text": [
      "      93             107        7.6830e-12      7.60e-11       7.23e-02       5.60e-07    \n",
      "      94             108        6.1902e-13      7.06e-12       4.09e-02       8.59e-08    \n",
      "      95             109        4.6659e-14      5.72e-13       2.20e-02       1.24e-08    \n",
      "      96             110        3.5802e-15      4.31e-14       1.15e-02       1.79e-09    \n",
      "`gtol` termination condition is satisfied.\n",
      "Function evaluations 110, initial cost 1.6427e+04, final cost 3.5802e-15, first-order optimality 1.79e-09.\n"
     ]
    }
   ],
   "source": [
    "initial_guess = [2, 2, 5, 0.1, 2, 2, 5, 0.1]\n",
    "fitted_params = least_squares(residuals, initial_guess, bounds=(0, np.inf), method = 'trf', max_nfev=10000, verbose=2, ftol=1e-012, xtol=1e-012)"
   ]
  },
  {
   "cell_type": "code",
   "execution_count": 159,
   "metadata": {},
   "outputs": [
    {
     "data": {
      "text/plain": [
       " active_mask: array([0, 0, 0, 0, 0, 0, 0, 0])\n",
       "        cost: 3.580181833774178e-15\n",
       "         fun: array([0.00000000e+00, 3.79783038e-09, 5.71342206e-09, ...,\n",
       "       1.69040098e-09, 1.69258717e-09, 1.69475524e-09])\n",
       "        grad: array([ 3.32149502e-12, -1.60668051e-10, -2.20042621e-11,  8.03966182e-10,\n",
       "       -1.78509867e-09, -6.57846820e-11,  4.75040523e-10, -1.43976271e-10])\n",
       "         jac: array([[ 0.00000000e+00,  0.00000000e+00,  0.00000000e+00, ...,\n",
       "         0.00000000e+00,  0.00000000e+00,  0.00000000e+00],\n",
       "       [-6.67479005e-08,  1.02198397e-05,  7.44109917e-06, ...,\n",
       "        -2.01721583e-08, -7.99244435e-06,  1.38453165e-07],\n",
       "       [-4.83847876e-07,  6.03040465e-05,  1.68860535e-05, ...,\n",
       "        -8.07816265e-08, -5.79351877e-05,  1.94905844e-06],\n",
       "       ...,\n",
       "       [-7.07573374e-09, -2.72616620e-07,  2.83243065e-08, ...,\n",
       "        -2.40415086e-07, -4.56675240e-04,  1.90095602e-03],\n",
       "       [-7.05817463e-09, -2.73307775e-07,  2.82160122e-08, ...,\n",
       "        -2.40825687e-07, -4.56969585e-04,  1.90222128e-03],\n",
       "       [-7.04065600e-09, -2.73990656e-07,  2.81088445e-08, ...,\n",
       "        -2.41232772e-07, -4.57261296e-04,  1.90347528e-03]])\n",
       "     message: '`gtol` termination condition is satisfied.'\n",
       "        nfev: 110\n",
       "        njev: 97\n",
       "  optimality: 1.7850986681537317e-09\n",
       "      status: 1\n",
       "     success: True\n",
       "           x: array([4.47603438e+01, 2.00013792e+00, 1.35196009e+01, 1.80012433e-01,\n",
       "       3.42972391e-02, 1.99875417e+00, 7.47669367e-01, 1.80100247e-01])"
      ]
     },
     "execution_count": 159,
     "metadata": {},
     "output_type": "execute_result"
    }
   ],
   "source": [
    "fitted_params"
   ]
  },
  {
   "cell_type": "code",
   "execution_count": 161,
   "metadata": {},
   "outputs": [
    {
     "data": {
      "text/plain": [
       "(1600,)"
      ]
     },
     "execution_count": 161,
     "metadata": {},
     "output_type": "execute_result"
    }
   ],
   "source": [
    "fitted_params.fun.shape"
   ]
  },
  {
   "cell_type": "code",
   "execution_count": 168,
   "metadata": {},
   "outputs": [
    {
     "data": {
      "text/plain": [
       "0.9999995392999813"
      ]
     },
     "execution_count": 168,
     "metadata": {},
     "output_type": "execute_result"
    }
   ],
   "source": [
    "from sklearn.metrics import r2_score\n",
    "r2_score(exp_P, np.array([odeint(general_toggle_switch, iv, t, args = tuple(fitted_params.x)).T[0],\n",
    "odeint(general_toggle_switch, iv, t, args = tuple(fitted_params.x)).T[1]]))"
   ]
  },
  {
   "cell_type": "code",
   "execution_count": 167,
   "metadata": {},
   "outputs": [
    {
     "data": {
      "text/plain": [
       "array([[0.        , 0.81562569, 1.50091264, ..., 0.09850592, 0.09849272,\n",
       "        0.09847966],\n",
       "       [0.        , 0.04614139, 0.08999019, ..., 4.14885775, 4.14887128,\n",
       "        4.14888467]])"
      ]
     },
     "execution_count": 167,
     "metadata": {},
     "output_type": "execute_result"
    }
   ],
   "source": [
    "exp_P"
   ]
  },
  {
   "cell_type": "code",
   "execution_count": 166,
   "metadata": {},
   "outputs": [
    {
     "data": {
      "text/plain": [
       "array([[0.        , 0.81568732, 1.50098823, ..., 0.09851283, 0.09849964,\n",
       "        0.09848658],\n",
       "       [0.        , 0.04616524, 0.09003216, ..., 4.14881664, 4.14883014,\n",
       "        4.1488435 ]])"
      ]
     },
     "execution_count": 166,
     "metadata": {},
     "output_type": "execute_result"
    }
   ],
   "source": [
    "np.array([odeint(general_toggle_switch, iv, t, args = tuple(fitted_params.x)).T[0],\n",
    "odeint(general_toggle_switch, iv, t, args = tuple(fitted_params.x)).T[1]])"
   ]
  },
  {
   "cell_type": "code",
   "execution_count": 132,
   "metadata": {},
   "outputs": [
    {
     "data": {
      "image/png": "[encoded data removed]",
      "text/plain": [
       "<Figure size 432x288 with 1 Axes>"
      ]
     },
     "metadata": {
      "needs_background": "light"
     },
     "output_type": "display_data"
    }
   ],
   "source": [
    "plt.plot(t, exp_P[0], 'ro')\n",
    "plt.plot(t, odeint(general_toggle_switch, iv, t, args = tuple(initial_guess)).T[0], 'g-')\n",
    "plt.plot(t, odeint(general_toggle_switch, iv, t, args = tuple(fitted_params)).T[0], 'b-')\n",
    "plt.legend(['Experimental Data', 'Initial Guess', 'Fitted Parameters'], loc = 'best')\n",
    "plt.xlabel('Time')\n",
    "plt.ylabel('Product Concentration')\n",
    "plt.show()"
   ]
  },
  {
   "cell_type": "code",
   "execution_count": 133,
   "metadata": {},
   "outputs": [
    {
     "data": {
      "image/png": "[encoded data removed]",
      "text/plain": [
       "<Figure size 432x288 with 1 Axes>"
      ]
     },
     "metadata": {
      "needs_background": "light"
     },
     "output_type": "display_data"
    }
   ],
   "source": [
    "plt.plot(t, exp_P[1], 'ro')\n",
    "plt.plot(t, odeint(general_toggle_switch, iv, t, args = tuple(initial_guess)).T[1], 'g-')\n",
    "plt.plot(t, odeint(general_toggle_switch, iv, t, args = tuple(fitted_params)).T[1], 'b-')\n",
    "plt.legend(['Experimental Data', 'Initial Guess', 'Fitted Parameters'], loc = 'best')\n",
    "plt.xlabel('Time')\n",
    "plt.ylabel('Product Concentration')\n",
    "plt.show()"
   ]
  },
  {
   "cell_type": "code",
   "execution_count": 134,
   "metadata": {},
   "outputs": [],
   "source": [
    "a1_node1 = 0\n",
    "a1_node2 = 0\n",
    "a2_node1 = 0\n",
    "a2_node2 = 0\n",
    "b1_node1 = 0\n",
    "b1_node2 = 0\n",
    "b2_node1 = 0\n",
    "b2_node2 = 0\n",
    "    \n",
    "b1_node1 = fitted_params[0]\n",
    "b1_node2 = fitted_params[4]\n",
    "n1 = fitted_params[1]\n",
    "n2 = fitted_params[5]\n",
    "beta_node1 = fitted_params[2]\n",
    "beta_node2 = fitted_params[6]\n",
    "delta_node1 = fitted_params[3]\n",
    "delta_node2 = fitted_params[7]\n",
    "\n"
   ]
  },
  {
   "cell_type": "markdown",
   "metadata": {},
   "source": [
    "# Node 1"
   ]
  },
  {
   "cell_type": "code",
   "execution_count": 135,
   "metadata": {},
   "outputs": [
    {
     "data": {
      "text/latex": [
       "$\\dot{x}_1 =13.51960093380957 \\frac{1+0x_1^{2.0001379182959207}+0x_2^{1.998754166853301}}{1+44.76034384448782x_1^{2.0001379182959207}+0x_2^{1.998754166853301}} - 0.18001243302156014x_1 $"
      ],
      "text/plain": [
       "<IPython.core.display.Latex object>"
      ]
     },
     "execution_count": 135,
     "metadata": {},
     "output_type": "execute_result"
    }
   ],
   "source": [
    "from IPython.display import Latex\n",
    "\n",
    "Latex('$\\dot{x}_1 ='+str(beta_node1)+' \\\\frac{1+'+str((a1_node1))+'x_1^{'+str((n1))+'}+'+str((a2_node1))+'x_2^{'+str((n2))+'}}{1+'+str((b1_node1))+'x_1^{'+str((n1))+'}+'+str((b2_node1))+'x_2^{'+str((n2))+'}} - ' + str(delta_node1)+'x_1 $')"
   ]
  },
  {
   "cell_type": "code",
   "execution_count": 136,
   "metadata": {},
   "outputs": [
    {
     "data": {
      "text/latex": [
       "$\\dot{x}_2 = 0.7476693673294484\\frac{1+0x_1^{2.0001379182959207}+0x_2^{1.998754166853301}}{1+0.034297239089453944x_1^{2.0001379182959207}+0x_2^{1.998754166853301}} - 0.1801002474080851x_2 $"
      ],
      "text/plain": [
       "<IPython.core.display.Latex object>"
      ]
     },
     "execution_count": 136,
     "metadata": {},
     "output_type": "execute_result"
    }
   ],
   "source": [
    "Latex('$\\dot{x}_2 = '+str(beta_node2)+'\\\\frac{1+'+str((a1_node2))+'x_1^{'+str((n1))+'}+'+str((a2_node2))+'x_2^{'+str((n2))+'}}{1+'+str((b1_node2))+'x_1^{'+str((n1))+'}+'+str((b2_node2))+'x_2^{'+str((n2))+'}} - ' + str(delta_node2)+'x_2 $')"
   ]
  },
  {
   "cell_type": "code",
   "execution_count": 105,
   "metadata": {},
   "outputs": [
    {
     "data": {
      "text/plain": [
       "array([4.47586074e+01, 2.00019499e+00, 1.35198394e+01, 1.80013768e-01,\n",
       "       3.43217713e-02, 1.99844506e+00, 7.47774572e-01, 1.80125957e-01])"
      ]
     },
     "execution_count": 105,
     "metadata": {},
     "output_type": "execute_result"
    }
   ],
   "source": [
    "fitted_params"
   ]
  },
  {
   "cell_type": "code",
   "execution_count": null,
   "metadata": {},
   "outputs": [],
   "source": []
  }
 ],
 "metadata": {
  "kernelspec": {
   "display_name": "Python 3",
   "language": "python",
   "name": "python3"
  },
  "language_info": {
   "codemirror_mode": {
    "name": "ipython",
    "version": 3
   },
   "file_extension": ".py",
   "mimetype": "text/x-python",
   "name": "python",
   "nbconvert_exporter": "python",
   "pygments_lexer": "ipython3",
   "version": "3.7.4"
  }
 },
 "nbformat": 4,
 "nbformat_minor": 2
}
